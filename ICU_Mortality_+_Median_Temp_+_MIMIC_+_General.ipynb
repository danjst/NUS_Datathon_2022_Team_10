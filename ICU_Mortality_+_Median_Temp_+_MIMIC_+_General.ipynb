{
  "nbformat": 4,
  "nbformat_minor": 0,
  "metadata": {
    "colab": {
      "provenance": []
    },
    "kernelspec": {
      "name": "python3",
      "display_name": "Python 3"
    },
    "language_info": {
      "name": "python"
    }
  },
  "cells": [
    {
      "cell_type": "code",
      "execution_count": null,
      "metadata": {
        "colab": {
          "base_uri": "https://localhost:8080/"
        },
        "id": "K0GndQU5NvlZ",
        "outputId": "2195df89-b444-42fb-d747-12991c9ab5af"
      },
      "outputs": [
        {
          "output_type": "stream",
          "name": "stdout",
          "text": [
            "Mounted at /content/drive\n"
          ]
        }
      ],
      "source": [
        "import pandas as pd\n",
        "import sklearn as skl\n",
        "import numpy as np\n",
        "\n",
        "from google.colab import drive\n",
        "drive.mount('/content/drive')\n",
        "\n",
        "# Make sure to add NUS_datathon_team_10_files to MyDrive as shortcut\n",
        "merged_path = \"/content/drive/MyDrive/NUS_datathon_team_10_files/merged_data_cleaned.csv\"\n",
        "df_merged = pd.read_csv(merged_path)"
      ]
    },
    {
      "cell_type": "code",
      "source": [
        "!pip install pygam"
      ],
      "metadata": {
        "colab": {
          "base_uri": "https://localhost:8080/"
        },
        "id": "JB9JkaE0Oery",
        "outputId": "828ae8d8-0261-4272-bd52-d17e22d122e6"
      },
      "execution_count": null,
      "outputs": [
        {
          "output_type": "stream",
          "name": "stdout",
          "text": [
            "Looking in indexes: https://pypi.org/simple, https://us-python.pkg.dev/colab-wheels/public/simple/\n",
            "Collecting pygam\n",
            "  Downloading pygam-0.8.0-py2.py3-none-any.whl (1.8 MB)\n",
            "\u001b[K     |████████████████████████████████| 1.8 MB 29.6 MB/s \n",
            "\u001b[?25hRequirement already satisfied: progressbar2 in /usr/local/lib/python3.8/dist-packages (from pygam) (3.38.0)\n",
            "Requirement already satisfied: numpy in /usr/local/lib/python3.8/dist-packages (from pygam) (1.21.6)\n",
            "Requirement already satisfied: future in /usr/local/lib/python3.8/dist-packages (from pygam) (0.16.0)\n",
            "Requirement already satisfied: scipy in /usr/local/lib/python3.8/dist-packages (from pygam) (1.7.3)\n",
            "Requirement already satisfied: python-utils>=2.3.0 in /usr/local/lib/python3.8/dist-packages (from progressbar2->pygam) (3.4.5)\n",
            "Requirement already satisfied: six in /usr/local/lib/python3.8/dist-packages (from progressbar2->pygam) (1.15.0)\n",
            "Installing collected packages: pygam\n",
            "Successfully installed pygam-0.8.0\n"
          ]
        }
      ]
    },
    {
      "cell_type": "code",
      "source": [
        "pd.set_option('display.max_columns', None)\n",
        "df_merged.head()"
      ],
      "metadata": {
        "colab": {
          "base_uri": "https://localhost:8080/",
          "height": 461
        },
        "id": "xvsLzAd0N228",
        "outputId": "c572a965-afe8-40df-c4a1-d220da584d51"
      },
      "execution_count": null,
      "outputs": [
        {
          "output_type": "execute_result",
          "data": {
            "text/plain": [
              "   subject_id  median_temp  temp_gap   hadm_id   stay_id gender         dod  \\\n",
              "0    10000032        37.06      0.44  29079034  39553978      F  2180-09-09   \n",
              "1    10000980        36.67      0.56  26913865  39765666      F  2193-08-26   \n",
              "2    10001217        37.28      1.50  24597018  37067082      F         NaN   \n",
              "3    10001725        36.53      0.50  25563031  31205490      F         NaN   \n",
              "4    10001884        36.70      2.20  26184834  37510196      F  2131-01-20   \n",
              "\n",
              "                 admittime                dischtime  los_hospital  \\\n",
              "0  2180-07-23 12:35:00.000  2180-07-25 17:55:00.000      2.222222   \n",
              "1  2189-06-27 07:38:00.000  2189-07-03 03:00:00.000      5.806944   \n",
              "2  2157-11-18 22:56:00.000  2157-11-25 18:00:00.000      6.794444   \n",
              "3  2110-04-11 15:08:00.000  2110-04-14 15:00:00.000      2.994444   \n",
              "4  2131-01-07 20:39:00.000  2131-01-20 05:15:00.000     12.358333   \n",
              "\n",
              "   admission_age                    race  hospital_expire_flag  hospstay_seq  \\\n",
              "0      52.559969                   WHITE                     0             1   \n",
              "1      76.486231  BLACK/AFRICAN AMERICAN                     0             1   \n",
              "2      55.881486                   WHITE                     0             1   \n",
              "3      46.275517                   WHITE                     0             1   \n",
              "4      77.018296  BLACK/AFRICAN AMERICAN                     1             1   \n",
              "\n",
              "   first_hosp_stay           icu_intime              icu_outtime  los_icu  \\\n",
              "0             True  2180-07-23 14:00:00  2180-07-23 23:50:47.000     0.41   \n",
              "1             True  2189-06-27 08:42:00  2189-06-27 20:38:27.000     0.50   \n",
              "2             True  2157-11-20 19:18:02  2157-11-21 22:08:00.000     1.12   \n",
              "3             True  2110-04-11 15:52:22  2110-04-12 23:59:56.000     1.34   \n",
              "4             True  2131-01-11 04:20:05  2131-01-20 08:27:30.000     9.17   \n",
              "\n",
              "   icustay_seq  first_icu_stay  icu_death  weight_admit  height   bmi  \\\n",
              "0            1            True          0          39.4   152.0  17.0   \n",
              "1            1            True          0          76.2     NaN   NaN   \n",
              "2            1            True          0          71.2     NaN   NaN   \n",
              "3            1            True          0          72.2   157.0  29.0   \n",
              "4            1            True          1          65.0   157.0  26.0   \n",
              "\n",
              "      admission_type                                    first_careunit  \\\n",
              "0           EW EMER.                Medical Intensive Care Unit (MICU)   \n",
              "1           EW EMER.                Medical Intensive Care Unit (MICU)   \n",
              "2           EW EMER.               Surgical Intensive Care Unit (SICU)   \n",
              "3           EW EMER.  Medical/Surgical Intensive Care Unit (MICU/SICU)   \n",
              "4  OBSERVATION ADMIT                Medical Intensive Care Unit (MICU)   \n",
              "\n",
              "                                      last_careunit  charlson_score  apsiii  \\\n",
              "0                Medical Intensive Care Unit (MICU)               4      54   \n",
              "1                Medical Intensive Care Unit (MICU)               9      32   \n",
              "2               Surgical Intensive Care Unit (SICU)               2      22   \n",
              "3  Medical/Surgical Intensive Care Unit (MICU/SICU)               2      32   \n",
              "4                Medical Intensive Care Unit (MICU)               6      51   \n",
              "\n",
              "   max_sofa  min_gcs  vasopressor  dialysis  invasive_vent  non_invasive_vent  \\\n",
              "0       2.0     14.0            0         0              0                  0   \n",
              "1       0.0     15.0            0         0              0                  0   \n",
              "2       0.0     15.0            0         0              0                  0   \n",
              "3       1.0     15.0            0         0              0                  0   \n",
              "4       4.0     15.0            0         0              1                  0   \n",
              "\n",
              "   malignant_cancer  chf  copd  ckd  atrial_fibrillation  cld  diabetes  ihd  \\\n",
              "0                 0    0     1    0                    0    1         0    0   \n",
              "1                 0    1     0    1                    0    0         1    1   \n",
              "2                 0    0     0    0                    0    0         0    0   \n",
              "3                 0    0     1    0                    0    0         0    0   \n",
              "4                 0    0     1    0                    1    0         0    1   \n",
              "\n",
              "   stroke  hypertension  cardiac_arrest  sepsis  aki        icu_intime_48  \\\n",
              "0       0             0               0       0    0  2180-07-25 14:00:00   \n",
              "1       0             0               0       0    0  2189-06-29 08:42:00   \n",
              "2       0             1               0       0    0  2157-11-22 19:18:02   \n",
              "3       0             0               0       0    0  2110-04-13 15:52:22   \n",
              "4       0             1               1       1    0  2131-01-13 04:20:05   \n",
              "\n",
              "   proportion_within_range  proportion_above  proportion_below  \n",
              "0                 1.000000          0.000000          0.000000  \n",
              "1                 1.000000          0.000000          0.000000  \n",
              "2                 0.888889          0.111111          0.000000  \n",
              "3                 1.000000          0.000000          0.000000  \n",
              "4                 0.914286          0.000000          0.085714  "
            ],
            "text/html": [
              "\n",
              "  <div id=\"df-76360e4a-e4da-41de-a477-07716d7babc8\">\n",
              "    <div class=\"colab-df-container\">\n",
              "      <div>\n",
              "<style scoped>\n",
              "    .dataframe tbody tr th:only-of-type {\n",
              "        vertical-align: middle;\n",
              "    }\n",
              "\n",
              "    .dataframe tbody tr th {\n",
              "        vertical-align: top;\n",
              "    }\n",
              "\n",
              "    .dataframe thead th {\n",
              "        text-align: right;\n",
              "    }\n",
              "</style>\n",
              "<table border=\"1\" class=\"dataframe\">\n",
              "  <thead>\n",
              "    <tr style=\"text-align: right;\">\n",
              "      <th></th>\n",
              "      <th>subject_id</th>\n",
              "      <th>median_temp</th>\n",
              "      <th>temp_gap</th>\n",
              "      <th>hadm_id</th>\n",
              "      <th>stay_id</th>\n",
              "      <th>gender</th>\n",
              "      <th>dod</th>\n",
              "      <th>admittime</th>\n",
              "      <th>dischtime</th>\n",
              "      <th>los_hospital</th>\n",
              "      <th>admission_age</th>\n",
              "      <th>race</th>\n",
              "      <th>hospital_expire_flag</th>\n",
              "      <th>hospstay_seq</th>\n",
              "      <th>first_hosp_stay</th>\n",
              "      <th>icu_intime</th>\n",
              "      <th>icu_outtime</th>\n",
              "      <th>los_icu</th>\n",
              "      <th>icustay_seq</th>\n",
              "      <th>first_icu_stay</th>\n",
              "      <th>icu_death</th>\n",
              "      <th>weight_admit</th>\n",
              "      <th>height</th>\n",
              "      <th>bmi</th>\n",
              "      <th>admission_type</th>\n",
              "      <th>first_careunit</th>\n",
              "      <th>last_careunit</th>\n",
              "      <th>charlson_score</th>\n",
              "      <th>apsiii</th>\n",
              "      <th>max_sofa</th>\n",
              "      <th>min_gcs</th>\n",
              "      <th>vasopressor</th>\n",
              "      <th>dialysis</th>\n",
              "      <th>invasive_vent</th>\n",
              "      <th>non_invasive_vent</th>\n",
              "      <th>malignant_cancer</th>\n",
              "      <th>chf</th>\n",
              "      <th>copd</th>\n",
              "      <th>ckd</th>\n",
              "      <th>atrial_fibrillation</th>\n",
              "      <th>cld</th>\n",
              "      <th>diabetes</th>\n",
              "      <th>ihd</th>\n",
              "      <th>stroke</th>\n",
              "      <th>hypertension</th>\n",
              "      <th>cardiac_arrest</th>\n",
              "      <th>sepsis</th>\n",
              "      <th>aki</th>\n",
              "      <th>icu_intime_48</th>\n",
              "      <th>proportion_within_range</th>\n",
              "      <th>proportion_above</th>\n",
              "      <th>proportion_below</th>\n",
              "    </tr>\n",
              "  </thead>\n",
              "  <tbody>\n",
              "    <tr>\n",
              "      <th>0</th>\n",
              "      <td>10000032</td>\n",
              "      <td>37.06</td>\n",
              "      <td>0.44</td>\n",
              "      <td>29079034</td>\n",
              "      <td>39553978</td>\n",
              "      <td>F</td>\n",
              "      <td>2180-09-09</td>\n",
              "      <td>2180-07-23 12:35:00.000</td>\n",
              "      <td>2180-07-25 17:55:00.000</td>\n",
              "      <td>2.222222</td>\n",
              "      <td>52.559969</td>\n",
              "      <td>WHITE</td>\n",
              "      <td>0</td>\n",
              "      <td>1</td>\n",
              "      <td>True</td>\n",
              "      <td>2180-07-23 14:00:00</td>\n",
              "      <td>2180-07-23 23:50:47.000</td>\n",
              "      <td>0.41</td>\n",
              "      <td>1</td>\n",
              "      <td>True</td>\n",
              "      <td>0</td>\n",
              "      <td>39.4</td>\n",
              "      <td>152.0</td>\n",
              "      <td>17.0</td>\n",
              "      <td>EW EMER.</td>\n",
              "      <td>Medical Intensive Care Unit (MICU)</td>\n",
              "      <td>Medical Intensive Care Unit (MICU)</td>\n",
              "      <td>4</td>\n",
              "      <td>54</td>\n",
              "      <td>2.0</td>\n",
              "      <td>14.0</td>\n",
              "      <td>0</td>\n",
              "      <td>0</td>\n",
              "      <td>0</td>\n",
              "      <td>0</td>\n",
              "      <td>0</td>\n",
              "      <td>0</td>\n",
              "      <td>1</td>\n",
              "      <td>0</td>\n",
              "      <td>0</td>\n",
              "      <td>1</td>\n",
              "      <td>0</td>\n",
              "      <td>0</td>\n",
              "      <td>0</td>\n",
              "      <td>0</td>\n",
              "      <td>0</td>\n",
              "      <td>0</td>\n",
              "      <td>0</td>\n",
              "      <td>2180-07-25 14:00:00</td>\n",
              "      <td>1.000000</td>\n",
              "      <td>0.000000</td>\n",
              "      <td>0.000000</td>\n",
              "    </tr>\n",
              "    <tr>\n",
              "      <th>1</th>\n",
              "      <td>10000980</td>\n",
              "      <td>36.67</td>\n",
              "      <td>0.56</td>\n",
              "      <td>26913865</td>\n",
              "      <td>39765666</td>\n",
              "      <td>F</td>\n",
              "      <td>2193-08-26</td>\n",
              "      <td>2189-06-27 07:38:00.000</td>\n",
              "      <td>2189-07-03 03:00:00.000</td>\n",
              "      <td>5.806944</td>\n",
              "      <td>76.486231</td>\n",
              "      <td>BLACK/AFRICAN AMERICAN</td>\n",
              "      <td>0</td>\n",
              "      <td>1</td>\n",
              "      <td>True</td>\n",
              "      <td>2189-06-27 08:42:00</td>\n",
              "      <td>2189-06-27 20:38:27.000</td>\n",
              "      <td>0.50</td>\n",
              "      <td>1</td>\n",
              "      <td>True</td>\n",
              "      <td>0</td>\n",
              "      <td>76.2</td>\n",
              "      <td>NaN</td>\n",
              "      <td>NaN</td>\n",
              "      <td>EW EMER.</td>\n",
              "      <td>Medical Intensive Care Unit (MICU)</td>\n",
              "      <td>Medical Intensive Care Unit (MICU)</td>\n",
              "      <td>9</td>\n",
              "      <td>32</td>\n",
              "      <td>0.0</td>\n",
              "      <td>15.0</td>\n",
              "      <td>0</td>\n",
              "      <td>0</td>\n",
              "      <td>0</td>\n",
              "      <td>0</td>\n",
              "      <td>0</td>\n",
              "      <td>1</td>\n",
              "      <td>0</td>\n",
              "      <td>1</td>\n",
              "      <td>0</td>\n",
              "      <td>0</td>\n",
              "      <td>1</td>\n",
              "      <td>1</td>\n",
              "      <td>0</td>\n",
              "      <td>0</td>\n",
              "      <td>0</td>\n",
              "      <td>0</td>\n",
              "      <td>0</td>\n",
              "      <td>2189-06-29 08:42:00</td>\n",
              "      <td>1.000000</td>\n",
              "      <td>0.000000</td>\n",
              "      <td>0.000000</td>\n",
              "    </tr>\n",
              "    <tr>\n",
              "      <th>2</th>\n",
              "      <td>10001217</td>\n",
              "      <td>37.28</td>\n",
              "      <td>1.50</td>\n",
              "      <td>24597018</td>\n",
              "      <td>37067082</td>\n",
              "      <td>F</td>\n",
              "      <td>NaN</td>\n",
              "      <td>2157-11-18 22:56:00.000</td>\n",
              "      <td>2157-11-25 18:00:00.000</td>\n",
              "      <td>6.794444</td>\n",
              "      <td>55.881486</td>\n",
              "      <td>WHITE</td>\n",
              "      <td>0</td>\n",
              "      <td>1</td>\n",
              "      <td>True</td>\n",
              "      <td>2157-11-20 19:18:02</td>\n",
              "      <td>2157-11-21 22:08:00.000</td>\n",
              "      <td>1.12</td>\n",
              "      <td>1</td>\n",
              "      <td>True</td>\n",
              "      <td>0</td>\n",
              "      <td>71.2</td>\n",
              "      <td>NaN</td>\n",
              "      <td>NaN</td>\n",
              "      <td>EW EMER.</td>\n",
              "      <td>Surgical Intensive Care Unit (SICU)</td>\n",
              "      <td>Surgical Intensive Care Unit (SICU)</td>\n",
              "      <td>2</td>\n",
              "      <td>22</td>\n",
              "      <td>0.0</td>\n",
              "      <td>15.0</td>\n",
              "      <td>0</td>\n",
              "      <td>0</td>\n",
              "      <td>0</td>\n",
              "      <td>0</td>\n",
              "      <td>0</td>\n",
              "      <td>0</td>\n",
              "      <td>0</td>\n",
              "      <td>0</td>\n",
              "      <td>0</td>\n",
              "      <td>0</td>\n",
              "      <td>0</td>\n",
              "      <td>0</td>\n",
              "      <td>0</td>\n",
              "      <td>1</td>\n",
              "      <td>0</td>\n",
              "      <td>0</td>\n",
              "      <td>0</td>\n",
              "      <td>2157-11-22 19:18:02</td>\n",
              "      <td>0.888889</td>\n",
              "      <td>0.111111</td>\n",
              "      <td>0.000000</td>\n",
              "    </tr>\n",
              "    <tr>\n",
              "      <th>3</th>\n",
              "      <td>10001725</td>\n",
              "      <td>36.53</td>\n",
              "      <td>0.50</td>\n",
              "      <td>25563031</td>\n",
              "      <td>31205490</td>\n",
              "      <td>F</td>\n",
              "      <td>NaN</td>\n",
              "      <td>2110-04-11 15:08:00.000</td>\n",
              "      <td>2110-04-14 15:00:00.000</td>\n",
              "      <td>2.994444</td>\n",
              "      <td>46.275517</td>\n",
              "      <td>WHITE</td>\n",
              "      <td>0</td>\n",
              "      <td>1</td>\n",
              "      <td>True</td>\n",
              "      <td>2110-04-11 15:52:22</td>\n",
              "      <td>2110-04-12 23:59:56.000</td>\n",
              "      <td>1.34</td>\n",
              "      <td>1</td>\n",
              "      <td>True</td>\n",
              "      <td>0</td>\n",
              "      <td>72.2</td>\n",
              "      <td>157.0</td>\n",
              "      <td>29.0</td>\n",
              "      <td>EW EMER.</td>\n",
              "      <td>Medical/Surgical Intensive Care Unit (MICU/SICU)</td>\n",
              "      <td>Medical/Surgical Intensive Care Unit (MICU/SICU)</td>\n",
              "      <td>2</td>\n",
              "      <td>32</td>\n",
              "      <td>1.0</td>\n",
              "      <td>15.0</td>\n",
              "      <td>0</td>\n",
              "      <td>0</td>\n",
              "      <td>0</td>\n",
              "      <td>0</td>\n",
              "      <td>0</td>\n",
              "      <td>0</td>\n",
              "      <td>1</td>\n",
              "      <td>0</td>\n",
              "      <td>0</td>\n",
              "      <td>0</td>\n",
              "      <td>0</td>\n",
              "      <td>0</td>\n",
              "      <td>0</td>\n",
              "      <td>0</td>\n",
              "      <td>0</td>\n",
              "      <td>0</td>\n",
              "      <td>0</td>\n",
              "      <td>2110-04-13 15:52:22</td>\n",
              "      <td>1.000000</td>\n",
              "      <td>0.000000</td>\n",
              "      <td>0.000000</td>\n",
              "    </tr>\n",
              "    <tr>\n",
              "      <th>4</th>\n",
              "      <td>10001884</td>\n",
              "      <td>36.70</td>\n",
              "      <td>2.20</td>\n",
              "      <td>26184834</td>\n",
              "      <td>37510196</td>\n",
              "      <td>F</td>\n",
              "      <td>2131-01-20</td>\n",
              "      <td>2131-01-07 20:39:00.000</td>\n",
              "      <td>2131-01-20 05:15:00.000</td>\n",
              "      <td>12.358333</td>\n",
              "      <td>77.018296</td>\n",
              "      <td>BLACK/AFRICAN AMERICAN</td>\n",
              "      <td>1</td>\n",
              "      <td>1</td>\n",
              "      <td>True</td>\n",
              "      <td>2131-01-11 04:20:05</td>\n",
              "      <td>2131-01-20 08:27:30.000</td>\n",
              "      <td>9.17</td>\n",
              "      <td>1</td>\n",
              "      <td>True</td>\n",
              "      <td>1</td>\n",
              "      <td>65.0</td>\n",
              "      <td>157.0</td>\n",
              "      <td>26.0</td>\n",
              "      <td>OBSERVATION ADMIT</td>\n",
              "      <td>Medical Intensive Care Unit (MICU)</td>\n",
              "      <td>Medical Intensive Care Unit (MICU)</td>\n",
              "      <td>6</td>\n",
              "      <td>51</td>\n",
              "      <td>4.0</td>\n",
              "      <td>15.0</td>\n",
              "      <td>0</td>\n",
              "      <td>0</td>\n",
              "      <td>1</td>\n",
              "      <td>0</td>\n",
              "      <td>0</td>\n",
              "      <td>0</td>\n",
              "      <td>1</td>\n",
              "      <td>0</td>\n",
              "      <td>1</td>\n",
              "      <td>0</td>\n",
              "      <td>0</td>\n",
              "      <td>1</td>\n",
              "      <td>0</td>\n",
              "      <td>1</td>\n",
              "      <td>1</td>\n",
              "      <td>1</td>\n",
              "      <td>0</td>\n",
              "      <td>2131-01-13 04:20:05</td>\n",
              "      <td>0.914286</td>\n",
              "      <td>0.000000</td>\n",
              "      <td>0.085714</td>\n",
              "    </tr>\n",
              "  </tbody>\n",
              "</table>\n",
              "</div>\n",
              "      <button class=\"colab-df-convert\" onclick=\"convertToInteractive('df-76360e4a-e4da-41de-a477-07716d7babc8')\"\n",
              "              title=\"Convert this dataframe to an interactive table.\"\n",
              "              style=\"display:none;\">\n",
              "        \n",
              "  <svg xmlns=\"http://www.w3.org/2000/svg\" height=\"24px\"viewBox=\"0 0 24 24\"\n",
              "       width=\"24px\">\n",
              "    <path d=\"M0 0h24v24H0V0z\" fill=\"none\"/>\n",
              "    <path d=\"M18.56 5.44l.94 2.06.94-2.06 2.06-.94-2.06-.94-.94-2.06-.94 2.06-2.06.94zm-11 1L8.5 8.5l.94-2.06 2.06-.94-2.06-.94L8.5 2.5l-.94 2.06-2.06.94zm10 10l.94 2.06.94-2.06 2.06-.94-2.06-.94-.94-2.06-.94 2.06-2.06.94z\"/><path d=\"M17.41 7.96l-1.37-1.37c-.4-.4-.92-.59-1.43-.59-.52 0-1.04.2-1.43.59L10.3 9.45l-7.72 7.72c-.78.78-.78 2.05 0 2.83L4 21.41c.39.39.9.59 1.41.59.51 0 1.02-.2 1.41-.59l7.78-7.78 2.81-2.81c.8-.78.8-2.07 0-2.86zM5.41 20L4 18.59l7.72-7.72 1.47 1.35L5.41 20z\"/>\n",
              "  </svg>\n",
              "      </button>\n",
              "      \n",
              "  <style>\n",
              "    .colab-df-container {\n",
              "      display:flex;\n",
              "      flex-wrap:wrap;\n",
              "      gap: 12px;\n",
              "    }\n",
              "\n",
              "    .colab-df-convert {\n",
              "      background-color: #E8F0FE;\n",
              "      border: none;\n",
              "      border-radius: 50%;\n",
              "      cursor: pointer;\n",
              "      display: none;\n",
              "      fill: #1967D2;\n",
              "      height: 32px;\n",
              "      padding: 0 0 0 0;\n",
              "      width: 32px;\n",
              "    }\n",
              "\n",
              "    .colab-df-convert:hover {\n",
              "      background-color: #E2EBFA;\n",
              "      box-shadow: 0px 1px 2px rgba(60, 64, 67, 0.3), 0px 1px 3px 1px rgba(60, 64, 67, 0.15);\n",
              "      fill: #174EA6;\n",
              "    }\n",
              "\n",
              "    [theme=dark] .colab-df-convert {\n",
              "      background-color: #3B4455;\n",
              "      fill: #D2E3FC;\n",
              "    }\n",
              "\n",
              "    [theme=dark] .colab-df-convert:hover {\n",
              "      background-color: #434B5C;\n",
              "      box-shadow: 0px 1px 3px 1px rgba(0, 0, 0, 0.15);\n",
              "      filter: drop-shadow(0px 1px 2px rgba(0, 0, 0, 0.3));\n",
              "      fill: #FFFFFF;\n",
              "    }\n",
              "  </style>\n",
              "\n",
              "      <script>\n",
              "        const buttonEl =\n",
              "          document.querySelector('#df-76360e4a-e4da-41de-a477-07716d7babc8 button.colab-df-convert');\n",
              "        buttonEl.style.display =\n",
              "          google.colab.kernel.accessAllowed ? 'block' : 'none';\n",
              "\n",
              "        async function convertToInteractive(key) {\n",
              "          const element = document.querySelector('#df-76360e4a-e4da-41de-a477-07716d7babc8');\n",
              "          const dataTable =\n",
              "            await google.colab.kernel.invokeFunction('convertToInteractive',\n",
              "                                                     [key], {});\n",
              "          if (!dataTable) return;\n",
              "\n",
              "          const docLinkHtml = 'Like what you see? Visit the ' +\n",
              "            '<a target=\"_blank\" href=https://colab.research.google.com/notebooks/data_table.ipynb>data table notebook</a>'\n",
              "            + ' to learn more about interactive tables.';\n",
              "          element.innerHTML = '';\n",
              "          dataTable['output_type'] = 'display_data';\n",
              "          await google.colab.output.renderOutput(dataTable, element);\n",
              "          const docLink = document.createElement('div');\n",
              "          docLink.innerHTML = docLinkHtml;\n",
              "          element.appendChild(docLink);\n",
              "        }\n",
              "      </script>\n",
              "    </div>\n",
              "  </div>\n",
              "  "
            ]
          },
          "metadata": {},
          "execution_count": 2
        }
      ]
    },
    {
      "cell_type": "code",
      "source": [
        "df_merged.shape"
      ],
      "metadata": {
        "colab": {
          "base_uri": "https://localhost:8080/"
        },
        "id": "8FpPhDseRtUQ",
        "outputId": "4f1513ed-d946-4e1a-ee2e-cf19dea60107"
      },
      "execution_count": null,
      "outputs": [
        {
          "output_type": "execute_result",
          "data": {
            "text/plain": [
              "(50099, 52)"
            ]
          },
          "metadata": {},
          "execution_count": 22
        }
      ]
    },
    {
      "cell_type": "code",
      "source": [
        "icu_deaths=0\n",
        "for row in range(len(df_merged)):\n",
        "  icu_deaths= icu_deaths + df_merged[\"icu_death\"][row]\n",
        "print(\"Number of icu deaths=\",icu_deaths)"
      ],
      "metadata": {
        "colab": {
          "base_uri": "https://localhost:8080/"
        },
        "id": "G5HujelDQier",
        "outputId": "69f5722a-2e51-465e-b162-79d36286ece1"
      },
      "execution_count": null,
      "outputs": [
        {
          "output_type": "stream",
          "name": "stdout",
          "text": [
            "Number of icu deaths= 3433\n"
          ]
        }
      ]
    },
    {
      "cell_type": "code",
      "source": [
        "hosp_deaths=0\n",
        "for row in range(len(df_merged)):\n",
        "  hosp_deaths= hosp_deaths + df_merged[\"hospital_expire_flag\"][row]\n",
        "print(\"Number of hospital deaths=\",hosp_deaths)"
      ],
      "metadata": {
        "colab": {
          "base_uri": "https://localhost:8080/"
        },
        "id": "E-deBxZtRScx",
        "outputId": "0f91a249-8568-4ad5-9acb-e901da57c756"
      },
      "execution_count": null,
      "outputs": [
        {
          "output_type": "stream",
          "name": "stdout",
          "text": [
            "Number of hospital deaths= 4934\n"
          ]
        }
      ]
    },
    {
      "cell_type": "code",
      "source": [
        "confounders = [\"admission_age\", \"gender\", \"apsiii\", \"charlson_score\", \"median_temp\", \"temp_gap\"]\n",
        "for i in confounders:\n",
        "  print(df_merged[i].isnull().values.any())"
      ],
      "metadata": {
        "colab": {
          "base_uri": "https://localhost:8080/"
        },
        "id": "Ucv3Wtw2OD4u",
        "outputId": "51079d3a-03dc-4ef8-9213-43c5c5302b06"
      },
      "execution_count": null,
      "outputs": [
        {
          "output_type": "stream",
          "name": "stdout",
          "text": [
            "False\n",
            "False\n",
            "False\n",
            "False\n",
            "False\n",
            "False\n"
          ]
        }
      ]
    },
    {
      "cell_type": "code",
      "source": [
        "y_train=df_merged[\"icu_death\"].to_frame()\n",
        "y_train.head()"
      ],
      "metadata": {
        "colab": {
          "base_uri": "https://localhost:8080/",
          "height": 206
        },
        "id": "qFtKAIyGOHQR",
        "outputId": "0ebe6ed0-92a6-42c7-d6cc-70461a0c8180"
      },
      "execution_count": null,
      "outputs": [
        {
          "output_type": "execute_result",
          "data": {
            "text/plain": [
              "   icu_death\n",
              "0          0\n",
              "1          0\n",
              "2          0\n",
              "3          0\n",
              "4          1"
            ],
            "text/html": [
              "\n",
              "  <div id=\"df-c60206da-482d-45c0-9f37-15bba7713633\">\n",
              "    <div class=\"colab-df-container\">\n",
              "      <div>\n",
              "<style scoped>\n",
              "    .dataframe tbody tr th:only-of-type {\n",
              "        vertical-align: middle;\n",
              "    }\n",
              "\n",
              "    .dataframe tbody tr th {\n",
              "        vertical-align: top;\n",
              "    }\n",
              "\n",
              "    .dataframe thead th {\n",
              "        text-align: right;\n",
              "    }\n",
              "</style>\n",
              "<table border=\"1\" class=\"dataframe\">\n",
              "  <thead>\n",
              "    <tr style=\"text-align: right;\">\n",
              "      <th></th>\n",
              "      <th>icu_death</th>\n",
              "    </tr>\n",
              "  </thead>\n",
              "  <tbody>\n",
              "    <tr>\n",
              "      <th>0</th>\n",
              "      <td>0</td>\n",
              "    </tr>\n",
              "    <tr>\n",
              "      <th>1</th>\n",
              "      <td>0</td>\n",
              "    </tr>\n",
              "    <tr>\n",
              "      <th>2</th>\n",
              "      <td>0</td>\n",
              "    </tr>\n",
              "    <tr>\n",
              "      <th>3</th>\n",
              "      <td>0</td>\n",
              "    </tr>\n",
              "    <tr>\n",
              "      <th>4</th>\n",
              "      <td>1</td>\n",
              "    </tr>\n",
              "  </tbody>\n",
              "</table>\n",
              "</div>\n",
              "      <button class=\"colab-df-convert\" onclick=\"convertToInteractive('df-c60206da-482d-45c0-9f37-15bba7713633')\"\n",
              "              title=\"Convert this dataframe to an interactive table.\"\n",
              "              style=\"display:none;\">\n",
              "        \n",
              "  <svg xmlns=\"http://www.w3.org/2000/svg\" height=\"24px\"viewBox=\"0 0 24 24\"\n",
              "       width=\"24px\">\n",
              "    <path d=\"M0 0h24v24H0V0z\" fill=\"none\"/>\n",
              "    <path d=\"M18.56 5.44l.94 2.06.94-2.06 2.06-.94-2.06-.94-.94-2.06-.94 2.06-2.06.94zm-11 1L8.5 8.5l.94-2.06 2.06-.94-2.06-.94L8.5 2.5l-.94 2.06-2.06.94zm10 10l.94 2.06.94-2.06 2.06-.94-2.06-.94-.94-2.06-.94 2.06-2.06.94z\"/><path d=\"M17.41 7.96l-1.37-1.37c-.4-.4-.92-.59-1.43-.59-.52 0-1.04.2-1.43.59L10.3 9.45l-7.72 7.72c-.78.78-.78 2.05 0 2.83L4 21.41c.39.39.9.59 1.41.59.51 0 1.02-.2 1.41-.59l7.78-7.78 2.81-2.81c.8-.78.8-2.07 0-2.86zM5.41 20L4 18.59l7.72-7.72 1.47 1.35L5.41 20z\"/>\n",
              "  </svg>\n",
              "      </button>\n",
              "      \n",
              "  <style>\n",
              "    .colab-df-container {\n",
              "      display:flex;\n",
              "      flex-wrap:wrap;\n",
              "      gap: 12px;\n",
              "    }\n",
              "\n",
              "    .colab-df-convert {\n",
              "      background-color: #E8F0FE;\n",
              "      border: none;\n",
              "      border-radius: 50%;\n",
              "      cursor: pointer;\n",
              "      display: none;\n",
              "      fill: #1967D2;\n",
              "      height: 32px;\n",
              "      padding: 0 0 0 0;\n",
              "      width: 32px;\n",
              "    }\n",
              "\n",
              "    .colab-df-convert:hover {\n",
              "      background-color: #E2EBFA;\n",
              "      box-shadow: 0px 1px 2px rgba(60, 64, 67, 0.3), 0px 1px 3px 1px rgba(60, 64, 67, 0.15);\n",
              "      fill: #174EA6;\n",
              "    }\n",
              "\n",
              "    [theme=dark] .colab-df-convert {\n",
              "      background-color: #3B4455;\n",
              "      fill: #D2E3FC;\n",
              "    }\n",
              "\n",
              "    [theme=dark] .colab-df-convert:hover {\n",
              "      background-color: #434B5C;\n",
              "      box-shadow: 0px 1px 3px 1px rgba(0, 0, 0, 0.15);\n",
              "      filter: drop-shadow(0px 1px 2px rgba(0, 0, 0, 0.3));\n",
              "      fill: #FFFFFF;\n",
              "    }\n",
              "  </style>\n",
              "\n",
              "      <script>\n",
              "        const buttonEl =\n",
              "          document.querySelector('#df-c60206da-482d-45c0-9f37-15bba7713633 button.colab-df-convert');\n",
              "        buttonEl.style.display =\n",
              "          google.colab.kernel.accessAllowed ? 'block' : 'none';\n",
              "\n",
              "        async function convertToInteractive(key) {\n",
              "          const element = document.querySelector('#df-c60206da-482d-45c0-9f37-15bba7713633');\n",
              "          const dataTable =\n",
              "            await google.colab.kernel.invokeFunction('convertToInteractive',\n",
              "                                                     [key], {});\n",
              "          if (!dataTable) return;\n",
              "\n",
              "          const docLinkHtml = 'Like what you see? Visit the ' +\n",
              "            '<a target=\"_blank\" href=https://colab.research.google.com/notebooks/data_table.ipynb>data table notebook</a>'\n",
              "            + ' to learn more about interactive tables.';\n",
              "          element.innerHTML = '';\n",
              "          dataTable['output_type'] = 'display_data';\n",
              "          await google.colab.output.renderOutput(dataTable, element);\n",
              "          const docLink = document.createElement('div');\n",
              "          docLink.innerHTML = docLinkHtml;\n",
              "          element.appendChild(docLink);\n",
              "        }\n",
              "      </script>\n",
              "    </div>\n",
              "  </div>\n",
              "  "
            ]
          },
          "metadata": {},
          "execution_count": 4
        }
      ]
    },
    {
      "cell_type": "code",
      "source": [
        "X= df_merged[[\"median_temp\",\"temp_gap\", \"admission_age\",\"gender\",\"charlson_score\",\"apsiii\"]]\n",
        "\n",
        "for row in range(len(X)):\n",
        "  if X[\"gender\"][row]=='F':\n",
        "     X[\"gender\"][row]=0\n",
        "  else:\n",
        "     X[\"gender\"][row]=1"
      ],
      "metadata": {
        "colab": {
          "base_uri": "https://localhost:8080/"
        },
        "id": "EHIAAlXpOO2j",
        "outputId": "b50337fe-a760-4505-a306-c471bc43e48c"
      },
      "execution_count": null,
      "outputs": [
        {
          "output_type": "stream",
          "name": "stderr",
          "text": [
            "<ipython-input-5-79458887d33f>:5: SettingWithCopyWarning: \n",
            "A value is trying to be set on a copy of a slice from a DataFrame\n",
            "\n",
            "See the caveats in the documentation: https://pandas.pydata.org/pandas-docs/stable/user_guide/indexing.html#returning-a-view-versus-a-copy\n",
            "  X[\"gender\"][row]=0\n",
            "<ipython-input-5-79458887d33f>:7: SettingWithCopyWarning: \n",
            "A value is trying to be set on a copy of a slice from a DataFrame\n",
            "\n",
            "See the caveats in the documentation: https://pandas.pydata.org/pandas-docs/stable/user_guide/indexing.html#returning-a-view-versus-a-copy\n",
            "  X[\"gender\"][row]=1\n"
          ]
        }
      ]
    },
    {
      "cell_type": "code",
      "source": [
        "from pygam import LogisticGAM, s, l, f\n",
        "gam = LogisticGAM(terms=(s(0, n_splines = 6) + s(1, n_splines = 6) + l(2) + f(3) + l(4) + l(5))).fit(X, y_train)"
      ],
      "metadata": {
        "id": "LQw_Yx-vOQV9"
      },
      "execution_count": null,
      "outputs": []
    },
    {
      "cell_type": "code",
      "source": [
        "from matplotlib import pyplot as plt\n",
        "\n",
        "plt.figure();\n",
        "fig, axs = plt.subplots(1,2);\n",
        "fig.set_figwidth(32)\n",
        "fig.set_figheight(9)\n",
        "\n",
        "titles = [\"ICU Death-Median Temperature\",\"ICU Death-Temperature Gap\"]\n",
        "for i, ax in enumerate(axs):\n",
        "    XX = gam.generate_X_grid(term=i)\n",
        "    ax.plot(XX[:, i], gam.partial_dependence(term=i, X=XX))\n",
        "    ax.plot(XX[:, i], gam.partial_dependence(term=i, X=XX, width=.95)[1], c='r', ls='--')\n",
        "    ax.set_title(titles[i], fontsize=30)\n",
        "    ax.set_xlabel('Temperature', size=24)\n",
        "    ax.tick_params(axis=\"x\", labelsize=22)\n",
        "    ax.tick_params(axis=\"y\", labelsize=22)\n",
        "    ax.legend([\"Fitted Line\", \"95% CI\"], loc=\"upper right\", prop={'size': 20})\n",
        "\n",
        "fig.align_labels()\n",
        "plt.savefig(f'/content/drive/MyDrive/NUS_datathon_team_10_files/Graphs/MIMIC ICU General.png')"
      ],
      "metadata": {
        "colab": {
          "base_uri": "https://localhost:8080/",
          "height": 475
        },
        "id": "yWTzGuJvOTsz",
        "outputId": "39441d2e-3547-43ff-eaa0-2e7a5dbeee17"
      },
      "execution_count": null,
      "outputs": [
        {
          "output_type": "display_data",
          "data": {
            "text/plain": [
              "<Figure size 432x288 with 0 Axes>"
            ]
          },
          "metadata": {}
        },
        {
          "output_type": "display_data",
          "data": {
            "text/plain": [
              "<Figure size 2304x648 with 2 Axes>"
            ],
            "image/png": "[encoded data removed]"
          },
          "metadata": {
            "needs_background": "light"
          }
        }
      ]
    },
    {
      "cell_type": "code",
      "source": [
        "from pygam import LinearGAM, LogisticGAM, s, l, f\n",
        "\n",
        "X_within = df_merged[[\"proportion_within_range\", \"admission_age\", \"gender\", \"charlson_score\", \"apsiii\"]]\n",
        "for row in range(len(X)):\n",
        "  if X_within[\"gender\"][row]=='F':\n",
        "     X_within[\"gender\"][row]=0\n",
        "  else:\n",
        "     X_within[\"gender\"][row]=1\n",
        "X_above = df_merged[[\"proportion_above\"]]\n",
        "X_below = df_merged[[\"proportion_below\"]]\n",
        "y_train=df_merged[\"hospital_expire_flag\"].to_frame()\n",
        "gam_within = LogisticGAM(terms=(s(0, n_splines = 6)+ l(1) + f(2) + l(3) + l(4)), fit_intercept=True).fit(X_within, y_train)\n",
        "gam_above = LogisticGAM(terms=(s(0, n_splines = 4))).fit(X_above, y_train)\n",
        "gam_below = LogisticGAM(terms=(s(0, n_splines = 4))).fit(X_below, y_train)\n",
        "# gam.summary()"
      ],
      "metadata": {
        "colab": {
          "base_uri": "https://localhost:8080/"
        },
        "id": "TABOCc-HOx25",
        "outputId": "22f6db37-e060-4fcd-9a92-5f3fc90b97f1"
      },
      "execution_count": null,
      "outputs": [
        {
          "output_type": "stream",
          "name": "stderr",
          "text": [
            "<ipython-input-10-96c462fd5cdb>:6: SettingWithCopyWarning: \n",
            "A value is trying to be set on a copy of a slice from a DataFrame\n",
            "\n",
            "See the caveats in the documentation: https://pandas.pydata.org/pandas-docs/stable/user_guide/indexing.html#returning-a-view-versus-a-copy\n",
            "  X_within[\"gender\"][row]=0\n",
            "<ipython-input-10-96c462fd5cdb>:8: SettingWithCopyWarning: \n",
            "A value is trying to be set on a copy of a slice from a DataFrame\n",
            "\n",
            "See the caveats in the documentation: https://pandas.pydata.org/pandas-docs/stable/user_guide/indexing.html#returning-a-view-versus-a-copy\n",
            "  X_within[\"gender\"][row]=1\n"
          ]
        }
      ]
    },
    {
      "cell_type": "code",
      "source": [
        "from pygam import LinearGAM, LogisticGAM, s, l, f\n",
        "\n",
        "X_within = df_merged[[\"proportion_within_range\", \"admission_age\", \"gender\", \"charlson_score\", \"apsiii\"]]\n",
        "for row in range(len(X)):\n",
        "  if X_within[\"gender\"][row]=='F':\n",
        "     X_within[\"gender\"][row]=0\n",
        "  else:\n",
        "     X_within[\"gender\"][row]=1\n",
        "y_train=df_merged[\"hospital_expire_flag\"].to_frame()\n",
        "gam_within = LogisticGAM(terms=(l(0) + l(1) + f(2) + l(3) + l(4))).fit(X_within, y_train)"
      ],
      "metadata": {
        "colab": {
          "base_uri": "https://localhost:8080/"
        },
        "id": "Cc6jrLHyO40d",
        "outputId": "97ea52ec-19e3-4c2f-88bd-b0eccbc60297"
      },
      "execution_count": null,
      "outputs": [
        {
          "output_type": "stream",
          "name": "stderr",
          "text": [
            "<ipython-input-11-a11175864022>:6: SettingWithCopyWarning: \n",
            "A value is trying to be set on a copy of a slice from a DataFrame\n",
            "\n",
            "See the caveats in the documentation: https://pandas.pydata.org/pandas-docs/stable/user_guide/indexing.html#returning-a-view-versus-a-copy\n",
            "  X_within[\"gender\"][row]=0\n",
            "<ipython-input-11-a11175864022>:8: SettingWithCopyWarning: \n",
            "A value is trying to be set on a copy of a slice from a DataFrame\n",
            "\n",
            "See the caveats in the documentation: https://pandas.pydata.org/pandas-docs/stable/user_guide/indexing.html#returning-a-view-versus-a-copy\n",
            "  X_within[\"gender\"][row]=1\n"
          ]
        }
      ]
    },
    {
      "cell_type": "code",
      "source": [
        "print(gam_within.coef_)\n",
        "print(gam_within.statistics_)"
      ],
      "metadata": {
        "colab": {
          "base_uri": "https://localhost:8080/"
        },
        "id": "KqZBcKXPPB2_",
        "outputId": "f906e3cf-16b7-41af-ea96-3a0d2d139e64"
      },
      "execution_count": null,
      "outputs": [
        {
          "output_type": "stream",
          "name": "stdout",
          "text": [
            "[-1.57828515  0.01850644  0.06809052 -0.06809066  0.12030372  0.04991781\n",
            " -5.65109915]\n",
            "{'n_samples': 50099, 'm_features': 5, 'edof_per_coef': array([9.99753848e-01, 9.97755787e-01, 9.99608295e-01, 9.98991376e-01,\n",
            "       9.99944627e-01, 9.99906330e-01, 1.71626551e-28]), 'edof': 5.9959602628706605, 'scale': 1.0, 'cov': array([[ 6.02415502e-03, -3.25173257e-06, -4.28209529e-05,\n",
            "         4.28208276e-05, -4.97949091e-05,  8.89669622e-06,\n",
            "        -5.04802427e-03],\n",
            "       [-3.25173257e-06,  1.79736723e-06, -2.86599869e-06,\n",
            "         2.86599604e-06, -3.93945500e-06,  1.17859083e-07,\n",
            "        -1.06530130e-04],\n",
            "       [-4.28209529e-05, -2.86599869e-06,  3.18854662e-04,\n",
            "        -3.18854657e-04,  9.11481150e-06,  2.99611439e-07,\n",
            "         1.82558556e-04],\n",
            "       [ 4.28208276e-05,  2.86599604e-06, -3.18854657e-04,\n",
            "         3.18854652e-04, -9.11481081e-06, -2.99612590e-07,\n",
            "        -1.82558185e-04],\n",
            "       [-4.97949091e-05, -3.93945500e-06,  9.11481150e-06,\n",
            "        -9.11481081e-06,  4.65303903e-05, -3.46729828e-07,\n",
            "         2.78812030e-05],\n",
            "       [ 8.89669622e-06,  1.17859083e-07,  2.99611439e-07,\n",
            "        -2.99612590e-07, -3.46729828e-07,  5.16177280e-07,\n",
            "        -4.63212872e-05],\n",
            "       [-5.04802427e-03, -1.06530130e-04,  1.82558556e-04,\n",
            "        -1.82558185e-04,  2.78812030e-05, -4.63212872e-05,\n",
            "         1.49296531e-02]]), 'se': array([0.07761543, 0.00134066, 0.0178565 , 0.0178565 , 0.00682132,\n",
            "       0.00071845, 0.12218696]), 'AIC': 22691.974887714852, 'AICc': 22691.97712122649, 'pseudo_r2': OrderedDict([('explained_deviance', 0.296479484716734), ('McFadden', 0.7035205152832662), ('McFadden_adj', 0.29610750198113334)]), 'GCV': None, 'UBRE': 2.4530384170527384, 'loglikelihood': -11339.991483594555, 'deviance': 22679.98296718911, 'p_values': [0.0, 0.0, 0.0006187378547228839, 0.0, 0.0, 0.0]}\n"
          ]
        }
      ]
    },
    {
      "cell_type": "code",
      "source": [
        "print(gam_within.coef_[-2])"
      ],
      "metadata": {
        "colab": {
          "base_uri": "https://localhost:8080/"
        },
        "id": "ECgKNVVlPJiP",
        "outputId": "6b4d205b-0b16-4577-c383-55caf0824be9"
      },
      "execution_count": null,
      "outputs": [
        {
          "output_type": "stream",
          "name": "stdout",
          "text": [
            "0.04991780923443164\n"
          ]
        }
      ]
    },
    {
      "cell_type": "code",
      "source": [
        "from sklearn.linear_model import LinearRegression\n",
        "\n",
        "X_within = df_merged[[\"proportion_above\", \"admission_age\", \"gender\", \"charlson_score\", \"apsiii\"]]\n",
        "for row in range(len(X)):\n",
        "  if X_within[\"gender\"][row]=='F':\n",
        "     X_within[\"gender\"][row]=0\n",
        "  else:\n",
        "     X_within[\"gender\"][row]=1\n",
        "\n",
        "y_train=df_merged[\"hospital_expire_flag\"].to_frame()"
      ],
      "metadata": {
        "colab": {
          "base_uri": "https://localhost:8080/"
        },
        "id": "1euu9flBPMTW",
        "outputId": "e7321a41-72d1-480d-9990-65c8cb38ebaf"
      },
      "execution_count": null,
      "outputs": [
        {
          "output_type": "stream",
          "name": "stderr",
          "text": [
            "<ipython-input-14-d4d8bb61037a>:6: SettingWithCopyWarning: \n",
            "A value is trying to be set on a copy of a slice from a DataFrame\n",
            "\n",
            "See the caveats in the documentation: https://pandas.pydata.org/pandas-docs/stable/user_guide/indexing.html#returning-a-view-versus-a-copy\n",
            "  X_within[\"gender\"][row]=0\n",
            "<ipython-input-14-d4d8bb61037a>:8: SettingWithCopyWarning: \n",
            "A value is trying to be set on a copy of a slice from a DataFrame\n",
            "\n",
            "See the caveats in the documentation: https://pandas.pydata.org/pandas-docs/stable/user_guide/indexing.html#returning-a-view-versus-a-copy\n",
            "  X_within[\"gender\"][row]=1\n"
          ]
        }
      ]
    },
    {
      "cell_type": "code",
      "source": [
        "from matplotlib import pyplot as plt\n",
        "plt.figure();\n",
        "\n",
        "XX = gam_within.generate_X_grid(term=0)\n",
        "plt.plot(XX[:, 0], gam_within.partial_dependence(term=0, X=XX))\n",
        "plt.plot(XX[:, 0], gam_within.partial_dependence(term=0, X=XX, width=.95)[1], c='r', ls='--')\n",
        "plt.title(\"ICU Mortality plotted against proportion of time spent in optimal temperature range (36-38 Celcius)\")\n",
        "plt.xlabel('ICU-Proportion of time spent in optimal temperature', fontsize=16)"
      ],
      "metadata": {
        "colab": {
          "base_uri": "https://localhost:8080/",
          "height": 317
        },
        "id": "9b8we1eSPUyJ",
        "outputId": "ff698219-1066-4c69-bc4b-703e024f37e6"
      },
      "execution_count": null,
      "outputs": [
        {
          "output_type": "execute_result",
          "data": {
            "text/plain": [
              "Text(0.5, 0, 'ICU-Proportion of time spent in optimal temperature')"
            ]
          },
          "metadata": {},
          "execution_count": 15
        },
        {
          "output_type": "display_data",
          "data": {
            "text/plain": [
              "<Figure size 432x288 with 1 Axes>"
            ],
            "image/png": "[encoded data removed]"
          },
          "metadata": {
            "needs_background": "light"
          }
        }
      ]
    },
    {
      "cell_type": "code",
      "source": [
        "from matplotlib import pyplot as plt\n",
        "plt.figure();\n",
        "\n",
        "XX = gam_above.generate_X_grid(term=0)\n",
        "plt.plot(XX[:, 0], gam_above.partial_dependence(term=0, X=XX))\n",
        "plt.plot(XX[:, 0], gam_above.partial_dependence(term=0, X=XX, width=.95)[1], c='r', ls='--')\n",
        "plt.title(\"yes\")"
      ],
      "metadata": {
        "colab": {
          "base_uri": "https://localhost:8080/",
          "height": 298
        },
        "id": "jaOb7HYXPazl",
        "outputId": "3b47e02f-3a81-4a8a-ad21-78792209a7f6"
      },
      "execution_count": null,
      "outputs": [
        {
          "output_type": "execute_result",
          "data": {
            "text/plain": [
              "Text(0.5, 1.0, 'yes')"
            ]
          },
          "metadata": {},
          "execution_count": 16
        },
        {
          "output_type": "display_data",
          "data": {
            "text/plain": [
              "<Figure size 432x288 with 1 Axes>"
            ],
            "image/png": "[encoded data removed]"
          },
          "metadata": {
            "needs_background": "light"
          }
        }
      ]
    },
    {
      "cell_type": "code",
      "source": [
        "from matplotlib import pyplot as plt\n",
        "plt.figure();\n",
        "\n",
        "XX = gam_below.generate_X_grid(term=0)\n",
        "plt.plot(XX[:, 0], gam_below.partial_dependence(term=0, X=XX))\n",
        "plt.plot(XX[:, 0], gam_below.partial_dependence(term=0, X=XX, width=.95)[1], c='r', ls='--')\n",
        "plt.title(\"yes\")"
      ],
      "metadata": {
        "colab": {
          "base_uri": "https://localhost:8080/",
          "height": 298
        },
        "id": "v72u4uXpPj_7",
        "outputId": "127f2066-d478-47a3-f595-8c5427e10697"
      },
      "execution_count": null,
      "outputs": [
        {
          "output_type": "execute_result",
          "data": {
            "text/plain": [
              "Text(0.5, 1.0, 'yes')"
            ]
          },
          "metadata": {},
          "execution_count": 17
        },
        {
          "output_type": "display_data",
          "data": {
            "text/plain": [
              "<Figure size 432x288 with 1 Axes>"
            ],
            "image/png": "[encoded data removed]"
          },
          "metadata": {
            "needs_background": "light"
          }
        }
      ]
    }
  ]
}